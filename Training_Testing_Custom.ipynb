{
 "cells": [
  {
   "cell_type": "markdown",
   "id": "88da5739",
   "metadata": {},
   "source": [
    "### Import Necessary Libraries"
   ]
  },
  {
   "cell_type": "code",
   "execution_count": 122,
   "id": "14d63cc7",
   "metadata": {},
   "outputs": [],
   "source": [
    "import os\n",
    "import torch\n",
    "import torch.nn as nn\n",
    "import torch.optim as optim\n",
    "from torch.utils.data import Dataset, DataLoader\n",
    "import pandas as pd\n",
    "import cv2\n",
    "import numpy as np\n",
    "from sklearn.model_selection import train_test_split\n",
    "import matplotlib.pyplot as plt\n",
    "from tqdm import tqdm"
   ]
  },
  {
   "cell_type": "code",
   "execution_count": 123,
   "id": "c2d8a174",
   "metadata": {},
   "outputs": [
    {
     "name": "stdout",
     "output_type": "stream",
     "text": [
      "                   filename  len  num1                     bbox1  num2  \\\n",
      "0          data/train/1.png    2     1        (246, 77, 81, 219)   9.0   \n",
      "1          data/train/2.png    2     2          (77, 29, 23, 32)   3.0   \n",
      "2          data/train/3.png    2     2            (17, 5, 8, 15)   5.0   \n",
      "3          data/train/4.png    2     9          (57, 13, 15, 34)   3.0   \n",
      "4          data/train/5.png    2     3           (52, 7, 21, 46)   1.0   \n",
      "...                     ...  ...   ...                       ...   ...   \n",
      "33397  data/train/33398.png    1     8  (65.0, 18.0, 15.0, 47.0)  -1.0   \n",
      "33398  data/train/33399.png    1     8  (81.0, 18.0, 28.0, 53.0)  -1.0   \n",
      "33399  data/train/33400.png    2     9           (36, 3, 25, 45)   5.0   \n",
      "33400  data/train/33401.png    2     2           (34, 6, 25, 40)   2.0   \n",
      "33401  data/train/33402.png    3     1           (35, 10, 7, 25)   6.0   \n",
      "\n",
      "                    bbox2  num3            bbox3  num4 bbox4  num5 bbox5  \\\n",
      "0      (323, 81, 96, 219)  -1.0               -1  -1.0    -1  -1.0    -1   \n",
      "1        (98, 25, 26, 32)  -1.0               -1  -1.0    -1  -1.0    -1   \n",
      "2          (25, 5, 9, 15)  -1.0               -1  -1.0    -1  -1.0    -1   \n",
      "3        (72, 13, 13, 34)  -1.0               -1  -1.0    -1  -1.0    -1   \n",
      "4        (74, 10, 15, 46)  -1.0               -1  -1.0    -1  -1.0    -1   \n",
      "...                   ...   ...              ...   ...   ...   ...   ...   \n",
      "33397                  -1  -1.0               -1  -1.0    -1  -1.0    -1   \n",
      "33398                  -1  -1.0               -1  -1.0    -1  -1.0    -1   \n",
      "33399     (57, 3, 27, 45)  -1.0               -1  -1.0    -1  -1.0    -1   \n",
      "33400     (61, 4, 25, 40)  -1.0               -1  -1.0    -1  -1.0    -1   \n",
      "33401     (44, 8, 15, 25)   9.0  (62, 9, 17, 25)  -1.0    -1  -1.0    -1   \n",
      "\n",
      "       num6 bbox6  \n",
      "0      -1.0    -1  \n",
      "1      -1.0    -1  \n",
      "2      -1.0    -1  \n",
      "3      -1.0    -1  \n",
      "4      -1.0    -1  \n",
      "...     ...   ...  \n",
      "33397  -1.0    -1  \n",
      "33398  -1.0    -1  \n",
      "33399  -1.0    -1  \n",
      "33400  -1.0    -1  \n",
      "33401  -1.0    -1  \n",
      "\n",
      "[33402 rows x 14 columns]\n"
     ]
    }
   ],
   "source": [
    "df = pd.read_csv(\"data/train.csv\")\n",
    "print(df)"
   ]
  },
  {
   "cell_type": "markdown",
   "id": "3a4d9d65",
   "metadata": {},
   "source": [
    "### Split Training Data into Training and Validation Sets"
   ]
  },
  {
   "cell_type": "code",
   "execution_count": 124,
   "id": "a8247c46",
   "metadata": {},
   "outputs": [],
   "source": [
    "df = pd.read_csv('data/train.csv')\n",
    "#validation set size = 20%\n",
    "train_df, val_df = train_test_split(df, test_size=0.2, random_state=42)\n",
    "\n",
    "# Save the new datasets\n",
    "train_df.to_csv('data/train_split.csv', index=False)\n",
    "val_df.to_csv('data/val_split.csv', index=False)"
   ]
  },
  {
   "cell_type": "markdown",
   "id": "1d94e527",
   "metadata": {},
   "source": [
    "### Define a Custom Dataset Class\n",
    "This class loads images and corresponding labels, preprocesses them, and returns them in a PyTorch-compatible format."
   ]
  },
  {
   "cell_type": "code",
   "execution_count": 125,
   "id": "ccabc188",
   "metadata": {},
   "outputs": [],
   "source": [
    "class HouseNumberDataset(Dataset):\n",
    "    def __init__(self, csv_file, image_dir, transform=None):\n",
    "        self.data = pd.read_csv(csv_file)\n",
    "        self.image_dir = image_dir\n",
    "        self.transform = transform\n",
    "    \n",
    "    def __len__(self):\n",
    "        return len(self.data)\n",
    "    \n",
    "    def __getitem__(self, idx):\n",
    "        row = self.data.iloc[idx]\n",
    "        img_path = row['filename']\n",
    "        \n",
    "        # Ensure the file path is correct and exists\n",
    "        if not os.path.exists(img_path):\n",
    "            raise FileNotFoundError(f\"Image file not found: {img_path}\")\n",
    "        \n",
    "        # Load the image\n",
    "        image = cv2.imread(img_path)\n",
    "        if image is None:\n",
    "            raise ValueError(f\"Unable to load image: {img_path}\")\n",
    "        \n",
    "        # Preprocess the image\n",
    "        image = cv2.resize(image, (32, 32))  # Resize to 32x32\n",
    "        image = image.transpose((2, 0, 1)) / 255.0  # Normalize\n",
    "        image = torch.tensor(image, dtype=torch.float32)\n",
    "        \n",
    "        # Process labels (replace -1 with 10 as placeholder class index)\n",
    "        labels = row[[f'num{i}' for i in range(1, 6)]].fillna(-1).values\n",
    "        labels = np.where(labels == -1, 10, labels)  # Replace -1 with placeholder class 10\n",
    "        labels = torch.tensor(labels, dtype=torch.long)\n",
    "        return image, labels"
   ]
  },
  {
   "cell_type": "markdown",
   "id": "385817dc",
   "metadata": {},
   "source": [
    "### Load Datasets"
   ]
  },
  {
   "cell_type": "code",
   "execution_count": 126,
   "id": "81c71017",
   "metadata": {},
   "outputs": [],
   "source": [
    "train_dataset = HouseNumberDataset(csv_file='data/train_split.csv', image_dir='data/train')\n",
    "val_dataset = HouseNumberDataset(csv_file='data/val_split.csv', image_dir='data/train')\n",
    "test_dataset = HouseNumberDataset(csv_file='data/test.csv', image_dir='data/test')\n",
    "\n",
    "train_loader = DataLoader(train_dataset, batch_size=64, shuffle=True)\n",
    "val_loader = DataLoader(val_dataset, batch_size=64, shuffle=False)\n",
    "test_loader = DataLoader(test_dataset, batch_size=64, shuffle=False)"
   ]
  },
  {
   "cell_type": "markdown",
   "id": "37c3995d",
   "metadata": {},
   "source": [
    "### Define the CNN Model"
   ]
  },
  {
   "cell_type": "code",
   "execution_count": 127,
   "id": "30738ce7",
   "metadata": {},
   "outputs": [],
   "source": [
    "class CNNModel(nn.Module):\n",
    "    def __init__(self, num_digits=5, num_classes=11):\n",
    "        super(CNNModel, self).__init__()\n",
    "        self.conv = nn.Sequential(\n",
    "            nn.Conv2d(3, 32, kernel_size=3),\n",
    "            nn.ReLU(),  # Activation function\n",
    "            nn.MaxPool2d(kernel_size=2),\n",
    "            nn.Conv2d(32, 64, kernel_size=3),\n",
    "            nn.ReLU(),  # Activation function\n",
    "            nn.MaxPool2d(kernel_size=2)\n",
    "        )\n",
    "        self.fc = nn.Sequential(\n",
    "            nn.Flatten(),\n",
    "            nn.Linear(64 * 6 * 6, 128),  # Adjust input size based on pooling\n",
    "            nn.ReLU(),  # Activation function\n",
    "            nn.Dropout(0.5),\n",
    "            nn.Linear(128, num_digits * num_classes)\n",
    "        )\n",
    "    \n",
    "    def forward(self, x):\n",
    "        x = self.conv(x)  # Pass through convolutional layers\n",
    "        x = self.fc(x)  # Pass through fully connected layers\n",
    "        return x.view(x.size(0), -1, 11)  # Reshape output for multi-digit prediction"
   ]
  },
  {
   "cell_type": "code",
   "execution_count": 128,
   "id": "e8c549f6",
   "metadata": {},
   "outputs": [],
   "source": [
    "device = torch.device(\"cuda\" if torch.cuda.is_available() else \"cpu\")\n",
    "model = CNNModel().to(device)"
   ]
  },
  {
   "cell_type": "code",
   "execution_count": 129,
   "id": "0c0cd27f",
   "metadata": {},
   "outputs": [],
   "source": [
    "optimizer = optim.Adam(model.parameters(), lr=0.001)\n",
    "criterion = nn.CrossEntropyLoss()"
   ]
  },
  {
   "cell_type": "markdown",
   "id": "df24de5d",
   "metadata": {},
   "source": [
    "### Training Loop with Validation"
   ]
  },
  {
   "cell_type": "code",
   "execution_count": 130,
   "id": "09265d44",
   "metadata": {},
   "outputs": [
    {
     "name": "stderr",
     "output_type": "stream",
     "text": [
      "100%|████████████████████████████████████████████████████████████████████████████████| 418/418 [12:19<00:00,  1.77s/it]\n"
     ]
    },
    {
     "name": "stdout",
     "output_type": "stream",
     "text": [
      "Epoch 1/20, Train Loss: 2588.8197, Validation Loss: 604.7573\n"
     ]
    },
    {
     "name": "stderr",
     "output_type": "stream",
     "text": [
      "100%|████████████████████████████████████████████████████████████████████████████████| 418/418 [00:53<00:00,  7.84it/s]\n"
     ]
    },
    {
     "name": "stdout",
     "output_type": "stream",
     "text": [
      "Epoch 2/20, Train Loss: 2415.6837, Validation Loss: 589.8962\n"
     ]
    },
    {
     "name": "stderr",
     "output_type": "stream",
     "text": [
      "100%|████████████████████████████████████████████████████████████████████████████████| 418/418 [00:54<00:00,  7.72it/s]\n"
     ]
    },
    {
     "name": "stdout",
     "output_type": "stream",
     "text": [
      "Epoch 3/20, Train Loss: 2359.3355, Validation Loss: 573.8612\n"
     ]
    },
    {
     "name": "stderr",
     "output_type": "stream",
     "text": [
      "100%|████████████████████████████████████████████████████████████████████████████████| 418/418 [00:53<00:00,  7.75it/s]\n"
     ]
    },
    {
     "name": "stdout",
     "output_type": "stream",
     "text": [
      "Epoch 4/20, Train Loss: 2302.0079, Validation Loss: 558.3259\n"
     ]
    },
    {
     "name": "stderr",
     "output_type": "stream",
     "text": [
      "100%|████████████████████████████████████████████████████████████████████████████████| 418/418 [00:53<00:00,  7.88it/s]\n"
     ]
    },
    {
     "name": "stdout",
     "output_type": "stream",
     "text": [
      "Epoch 5/20, Train Loss: 2221.2638, Validation Loss: 530.8732\n"
     ]
    },
    {
     "name": "stderr",
     "output_type": "stream",
     "text": [
      "100%|████████████████████████████████████████████████████████████████████████████████| 418/418 [00:53<00:00,  7.85it/s]\n"
     ]
    },
    {
     "name": "stdout",
     "output_type": "stream",
     "text": [
      "Epoch 6/20, Train Loss: 2129.8525, Validation Loss: 498.5693\n"
     ]
    },
    {
     "name": "stderr",
     "output_type": "stream",
     "text": [
      "100%|████████████████████████████████████████████████████████████████████████████████| 418/418 [00:53<00:00,  7.85it/s]\n"
     ]
    },
    {
     "name": "stdout",
     "output_type": "stream",
     "text": [
      "Epoch 7/20, Train Loss: 2038.9820, Validation Loss: 473.9836\n"
     ]
    },
    {
     "name": "stderr",
     "output_type": "stream",
     "text": [
      "100%|████████████████████████████████████████████████████████████████████████████████| 418/418 [00:54<00:00,  7.68it/s]\n"
     ]
    },
    {
     "name": "stdout",
     "output_type": "stream",
     "text": [
      "Epoch 8/20, Train Loss: 1966.8933, Validation Loss: 459.8100\n"
     ]
    },
    {
     "name": "stderr",
     "output_type": "stream",
     "text": [
      "100%|████████████████████████████████████████████████████████████████████████████████| 418/418 [00:53<00:00,  7.86it/s]\n"
     ]
    },
    {
     "name": "stdout",
     "output_type": "stream",
     "text": [
      "Epoch 9/20, Train Loss: 1912.0640, Validation Loss: 448.0065\n"
     ]
    },
    {
     "name": "stderr",
     "output_type": "stream",
     "text": [
      "100%|████████████████████████████████████████████████████████████████████████████████| 418/418 [00:53<00:00,  7.87it/s]\n"
     ]
    },
    {
     "name": "stdout",
     "output_type": "stream",
     "text": [
      "Epoch 10/20, Train Loss: 1875.6223, Validation Loss: 432.7838\n"
     ]
    },
    {
     "name": "stderr",
     "output_type": "stream",
     "text": [
      "100%|████████████████████████████████████████████████████████████████████████████████| 418/418 [00:52<00:00,  7.90it/s]\n"
     ]
    },
    {
     "name": "stdout",
     "output_type": "stream",
     "text": [
      "Epoch 11/20, Train Loss: 1838.3944, Validation Loss: 423.8411\n"
     ]
    },
    {
     "name": "stderr",
     "output_type": "stream",
     "text": [
      "100%|████████████████████████████████████████████████████████████████████████████████| 418/418 [00:53<00:00,  7.84it/s]\n"
     ]
    },
    {
     "name": "stdout",
     "output_type": "stream",
     "text": [
      "Epoch 12/20, Train Loss: 1810.5555, Validation Loss: 418.1418\n"
     ]
    },
    {
     "name": "stderr",
     "output_type": "stream",
     "text": [
      "100%|████████████████████████████████████████████████████████████████████████████████| 418/418 [00:52<00:00,  7.93it/s]\n"
     ]
    },
    {
     "name": "stdout",
     "output_type": "stream",
     "text": [
      "Epoch 13/20, Train Loss: 1788.0985, Validation Loss: 414.5010\n"
     ]
    },
    {
     "name": "stderr",
     "output_type": "stream",
     "text": [
      "100%|████████████████████████████████████████████████████████████████████████████████| 418/418 [00:54<00:00,  7.63it/s]\n"
     ]
    },
    {
     "name": "stdout",
     "output_type": "stream",
     "text": [
      "Epoch 14/20, Train Loss: 1763.7547, Validation Loss: 407.0339\n"
     ]
    },
    {
     "name": "stderr",
     "output_type": "stream",
     "text": [
      "100%|████████████████████████████████████████████████████████████████████████████████| 418/418 [00:54<00:00,  7.65it/s]\n"
     ]
    },
    {
     "name": "stdout",
     "output_type": "stream",
     "text": [
      "Epoch 15/20, Train Loss: 1730.8212, Validation Loss: 408.2081\n"
     ]
    },
    {
     "name": "stderr",
     "output_type": "stream",
     "text": [
      "100%|████████████████████████████████████████████████████████████████████████████████| 418/418 [00:53<00:00,  7.84it/s]\n"
     ]
    },
    {
     "name": "stdout",
     "output_type": "stream",
     "text": [
      "Epoch 16/20, Train Loss: 1712.3118, Validation Loss: 399.0813\n"
     ]
    },
    {
     "name": "stderr",
     "output_type": "stream",
     "text": [
      "100%|████████████████████████████████████████████████████████████████████████████████| 418/418 [00:55<00:00,  7.53it/s]\n"
     ]
    },
    {
     "name": "stdout",
     "output_type": "stream",
     "text": [
      "Epoch 17/20, Train Loss: 1690.5499, Validation Loss: 395.7483\n"
     ]
    },
    {
     "name": "stderr",
     "output_type": "stream",
     "text": [
      "100%|████████████████████████████████████████████████████████████████████████████████| 418/418 [00:56<00:00,  7.41it/s]\n"
     ]
    },
    {
     "name": "stdout",
     "output_type": "stream",
     "text": [
      "Epoch 18/20, Train Loss: 1677.6396, Validation Loss: 392.6680\n"
     ]
    },
    {
     "name": "stderr",
     "output_type": "stream",
     "text": [
      "100%|████████████████████████████████████████████████████████████████████████████████| 418/418 [00:55<00:00,  7.59it/s]\n"
     ]
    },
    {
     "name": "stdout",
     "output_type": "stream",
     "text": [
      "Epoch 19/20, Train Loss: 1659.4956, Validation Loss: 392.6110\n"
     ]
    },
    {
     "name": "stderr",
     "output_type": "stream",
     "text": [
      "100%|████████████████████████████████████████████████████████████████████████████████| 418/418 [00:53<00:00,  7.84it/s]\n"
     ]
    },
    {
     "name": "stdout",
     "output_type": "stream",
     "text": [
      "Epoch 20/20, Train Loss: 1642.7339, Validation Loss: 389.9793\n"
     ]
    }
   ],
   "source": [
    "train_losses = []\n",
    "val_losses = []\n",
    "\n",
    "def train_model_with_validation(model, train_loader, val_loader, optimizer, criterion, epochs=10):\n",
    "    for epoch in range(epochs):\n",
    "        total_train_loss = 0\n",
    "        total_val_loss = 0\n",
    "\n",
    "        # Training Loop\n",
    "        model.train()\n",
    "        for images, labels in tqdm(train_loader):\n",
    "            images, labels = images.to(device), labels.to(device)\n",
    "\n",
    "            optimizer.zero_grad()\n",
    "            outputs = model(images)\n",
    "            loss = 0\n",
    "            for i in range(labels.size(1)):\n",
    "                loss += criterion(outputs[:, i, :], labels[:, i])\n",
    "            \n",
    "            loss.backward()\n",
    "            optimizer.step()\n",
    "            total_train_loss += loss.item()\n",
    "\n",
    "        # Validation Loop\n",
    "        model.eval()\n",
    "        with torch.no_grad():\n",
    "            for images, labels in val_loader:\n",
    "                images, labels = images.to(device), labels.to(device)\n",
    "                outputs = model(images)\n",
    "                loss = 0\n",
    "                for i in range(labels.size(1)):\n",
    "                    loss += criterion(outputs[:, i, :], labels[:, i])\n",
    "                total_val_loss += loss.item()\n",
    "\n",
    "        train_losses.append(total_train_loss)\n",
    "        val_losses.append(total_val_loss)\n",
    "\n",
    "        print(f\"Epoch {epoch + 1}/{epochs}, Train Loss: {total_train_loss:.4f}, Validation Loss: {total_val_loss:.4f}\")\n",
    "\n",
    "train_model_with_validation(model, train_loader, val_loader, optimizer, criterion, epochs=20)"
   ]
  },
  {
   "cell_type": "code",
   "execution_count": 133,
   "id": "f2ff793b",
   "metadata": {},
   "outputs": [
    {
     "name": "stdout",
     "output_type": "stream",
     "text": [
      "Test Loss: 959.9969, Accuracy: 0.7236\n"
     ]
    }
   ],
   "source": [
    "def evaluate_model(model, test_loader, criterion):\n",
    "    model.eval()\n",
    "    total_loss, correct = 0, 0\n",
    "    with torch.no_grad():\n",
    "        for images, labels in test_loader:\n",
    "            images, labels = images.to(device), labels.to(device)\n",
    "            outputs = model(images)\n",
    "            loss = 0\n",
    "            for i in range(labels.size(1)):\n",
    "                loss += criterion(outputs[:, i, :], labels[:, i])\n",
    "                correct += (outputs[:, i, :].argmax(dim=1) == labels[:, i]).sum().item()\n",
    "            \n",
    "            total_loss += loss.item()\n",
    "    \n",
    "    print(f\"Test Loss: {total_loss:.4f}, Accuracy: {correct / (len(test_loader.dataset) * 5):.4f}\")\n",
    "\n",
    "evaluate_model(model, test_loader, criterion)\n"
   ]
  },
  {
   "cell_type": "code",
   "execution_count": 134,
   "id": "0a7e83a3",
   "metadata": {},
   "outputs": [
    {
     "data": {
      "image/png": "[encoded data removed]",
      "text/plain": [
       "<Figure size 1000x500 with 1 Axes>"
      ]
     },
     "metadata": {},
     "output_type": "display_data"
    }
   ],
   "source": [
    "plt.figure(figsize=(10, 5))\n",
    "plt.plot(range(1, len(train_losses) + 1), train_losses, label='Training Loss')\n",
    "plt.plot(range(1, len(val_losses) + 1), val_losses, label='Validation Loss')\n",
    "plt.xlabel('Epochs')\n",
    "plt.ylabel('Loss')\n",
    "plt.title('Training vs Validation Loss')\n",
    "plt.legend()\n",
    "plt.show()"
   ]
  }
 ],
 "metadata": {
  "kernelspec": {
   "display_name": "Python 3 (ipykernel)",
   "language": "python",
   "name": "python3"
  },
  "language_info": {
   "codemirror_mode": {
    "name": "ipython",
    "version": 3
   },
   "file_extension": ".py",
   "mimetype": "text/x-python",
   "name": "python",
   "nbconvert_exporter": "python",
   "pygments_lexer": "ipython3",
   "version": "3.10.7"
  }
 },
 "nbformat": 4,
 "nbformat_minor": 5
}
